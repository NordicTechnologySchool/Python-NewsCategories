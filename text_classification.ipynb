{
 "cells": [
  {
   "cell_type": "code",
   "execution_count": 105,
   "metadata": {},
   "outputs": [],
   "source": [
    "import pandas as pd\n",
    "from sqlalchemy import create_engine\n",
    "engine = create_engine('sqlite:////home/azkaf/newspaper3k_library/berita_database.db',echo=False)"
   ]
  },
  {
   "cell_type": "code",
   "execution_count": 106,
   "metadata": {},
   "outputs": [],
   "source": [
    "df = pd.read_sql_table('berita',engine, columns=['label','text'])"
   ]
  },
  {
   "cell_type": "code",
   "execution_count": 107,
   "metadata": {},
   "outputs": [
    {
     "data": {
      "text/plain": [
       "(2293, 2)"
      ]
     },
     "execution_count": 107,
     "metadata": {},
     "output_type": "execute_result"
    }
   ],
   "source": [
    "df.shape"
   ]
  },
  {
   "cell_type": "code",
   "execution_count": 108,
   "metadata": {},
   "outputs": [
    {
     "data": {
      "text/plain": [
       "wisata       304\n",
       "teknologi    283\n",
       "olahraga     267\n",
       "otomotif     265\n",
       "bisnis       259\n",
       "kuliner      243\n",
       "kesehatan    237\n",
       "berita       228\n",
       "sains        207\n",
       "Name: label, dtype: int64"
      ]
     },
     "execution_count": 108,
     "metadata": {},
     "output_type": "execute_result"
    }
   ],
   "source": [
    "df.label.value_counts()"
   ]
  },
  {
   "cell_type": "code",
   "execution_count": 109,
   "metadata": {},
   "outputs": [],
   "source": [
    "df.dropna(inplace=True)"
   ]
  },
  {
   "cell_type": "code",
   "execution_count": 110,
   "metadata": {},
   "outputs": [
    {
     "name": "stdout",
     "output_type": "stream",
     "text": [
      "(2226, 2)\n"
     ]
    }
   ],
   "source": [
    "print(df.shape)"
   ]
  },
  {
   "cell_type": "code",
   "execution_count": 111,
   "metadata": {},
   "outputs": [
    {
     "name": "stdout",
     "output_type": "stream",
     "text": [
      "wisata       304\n",
      "teknologi    270\n",
      "otomotif     265\n",
      "olahraga     253\n",
      "bisnis       246\n",
      "kuliner      241\n",
      "kesehatan    232\n",
      "berita       211\n",
      "sains        204\n",
      "Name: label, dtype: int64\n"
     ]
    }
   ],
   "source": [
    "print(df.label.value_counts())"
   ]
  },
  {
   "cell_type": "code",
   "execution_count": 112,
   "metadata": {},
   "outputs": [
    {
     "data": {
      "text/html": [
       "<div>\n",
       "<style scoped>\n",
       "    .dataframe tbody tr th:only-of-type {\n",
       "        vertical-align: middle;\n",
       "    }\n",
       "\n",
       "    .dataframe tbody tr th {\n",
       "        vertical-align: top;\n",
       "    }\n",
       "\n",
       "    .dataframe thead th {\n",
       "        text-align: right;\n",
       "    }\n",
       "</style>\n",
       "<table border=\"1\" class=\"dataframe\">\n",
       "  <thead>\n",
       "    <tr style=\"text-align: right;\">\n",
       "      <th></th>\n",
       "      <th>label</th>\n",
       "      <th>text</th>\n",
       "    </tr>\n",
       "  </thead>\n",
       "  <tbody>\n",
       "    <tr>\n",
       "      <th>0</th>\n",
       "      <td>berita</td>\n",
       "      <td>PATI, KOMPAS.com - Kepala Kepolisian Resor Pat...</td>\n",
       "    </tr>\n",
       "    <tr>\n",
       "      <th>1</th>\n",
       "      <td>berita</td>\n",
       "      <td>JAKARTA, KOMPAS.com - Perayaan Natal Bersama P...</td>\n",
       "    </tr>\n",
       "    <tr>\n",
       "      <th>2</th>\n",
       "      <td>berita</td>\n",
       "      <td>JAKARTA, KOMPAS.com - Ketua Majelis Permusyawa...</td>\n",
       "    </tr>\n",
       "    <tr>\n",
       "      <th>3</th>\n",
       "      <td>berita</td>\n",
       "      <td>SUMEDANG, KOMPAS.com - Jumat (28/12/2018) mala...</td>\n",
       "    </tr>\n",
       "    <tr>\n",
       "      <th>4</th>\n",
       "      <td>berita</td>\n",
       "      <td>JAKARTA, KOMPAS.com - Sebanyak 22 staf PT Mass...</td>\n",
       "    </tr>\n",
       "  </tbody>\n",
       "</table>\n",
       "</div>"
      ],
      "text/plain": [
       "    label                                               text\n",
       "0  berita  PATI, KOMPAS.com - Kepala Kepolisian Resor Pat...\n",
       "1  berita  JAKARTA, KOMPAS.com - Perayaan Natal Bersama P...\n",
       "2  berita  JAKARTA, KOMPAS.com - Ketua Majelis Permusyawa...\n",
       "3  berita  SUMEDANG, KOMPAS.com - Jumat (28/12/2018) mala...\n",
       "4  berita  JAKARTA, KOMPAS.com - Sebanyak 22 staf PT Mass..."
      ]
     },
     "execution_count": 112,
     "metadata": {},
     "output_type": "execute_result"
    }
   ],
   "source": [
    "df.head()"
   ]
  },
  {
   "cell_type": "code",
   "execution_count": 113,
   "metadata": {},
   "outputs": [],
   "source": [
    "# convert label to numerical label\n",
    "from sklearn.preprocessing import LabelEncoder\n",
    "LE = LabelEncoder()\n",
    "df['label_num'] = LE.fit_transform(df.label)"
   ]
  },
  {
   "cell_type": "code",
   "execution_count": 114,
   "metadata": {},
   "outputs": [
    {
     "data": {
      "text/plain": [
       "array(['berita', 'bisnis', 'kesehatan', 'kuliner', 'olahraga', 'otomotif',\n",
       "       'sains', 'teknologi', 'wisata'], dtype=object)"
      ]
     },
     "execution_count": 114,
     "metadata": {},
     "output_type": "execute_result"
    }
   ],
   "source": [
    "LE.classes_"
   ]
  },
  {
   "cell_type": "code",
   "execution_count": 115,
   "metadata": {},
   "outputs": [
    {
     "data": {
      "text/html": [
       "<div>\n",
       "<style scoped>\n",
       "    .dataframe tbody tr th:only-of-type {\n",
       "        vertical-align: middle;\n",
       "    }\n",
       "\n",
       "    .dataframe tbody tr th {\n",
       "        vertical-align: top;\n",
       "    }\n",
       "\n",
       "    .dataframe thead th {\n",
       "        text-align: right;\n",
       "    }\n",
       "</style>\n",
       "<table border=\"1\" class=\"dataframe\">\n",
       "  <thead>\n",
       "    <tr style=\"text-align: right;\">\n",
       "      <th></th>\n",
       "      <th>label</th>\n",
       "      <th>text</th>\n",
       "      <th>label_num</th>\n",
       "    </tr>\n",
       "  </thead>\n",
       "  <tbody>\n",
       "    <tr>\n",
       "      <th>0</th>\n",
       "      <td>berita</td>\n",
       "      <td>PATI, KOMPAS.com - Kepala Kepolisian Resor Pat...</td>\n",
       "      <td>0</td>\n",
       "    </tr>\n",
       "    <tr>\n",
       "      <th>1</th>\n",
       "      <td>berita</td>\n",
       "      <td>JAKARTA, KOMPAS.com - Perayaan Natal Bersama P...</td>\n",
       "      <td>0</td>\n",
       "    </tr>\n",
       "    <tr>\n",
       "      <th>2</th>\n",
       "      <td>berita</td>\n",
       "      <td>JAKARTA, KOMPAS.com - Ketua Majelis Permusyawa...</td>\n",
       "      <td>0</td>\n",
       "    </tr>\n",
       "    <tr>\n",
       "      <th>3</th>\n",
       "      <td>berita</td>\n",
       "      <td>SUMEDANG, KOMPAS.com - Jumat (28/12/2018) mala...</td>\n",
       "      <td>0</td>\n",
       "    </tr>\n",
       "    <tr>\n",
       "      <th>4</th>\n",
       "      <td>berita</td>\n",
       "      <td>JAKARTA, KOMPAS.com - Sebanyak 22 staf PT Mass...</td>\n",
       "      <td>0</td>\n",
       "    </tr>\n",
       "  </tbody>\n",
       "</table>\n",
       "</div>"
      ],
      "text/plain": [
       "    label                                               text  label_num\n",
       "0  berita  PATI, KOMPAS.com - Kepala Kepolisian Resor Pat...          0\n",
       "1  berita  JAKARTA, KOMPAS.com - Perayaan Natal Bersama P...          0\n",
       "2  berita  JAKARTA, KOMPAS.com - Ketua Majelis Permusyawa...          0\n",
       "3  berita  SUMEDANG, KOMPAS.com - Jumat (28/12/2018) mala...          0\n",
       "4  berita  JAKARTA, KOMPAS.com - Sebanyak 22 staf PT Mass...          0"
      ]
     },
     "execution_count": 115,
     "metadata": {},
     "output_type": "execute_result"
    }
   ],
   "source": [
    "df.head()"
   ]
  },
  {
   "cell_type": "markdown",
   "metadata": {},
   "source": [
    "### remove stopwords & stemming"
   ]
  },
  {
   "cell_type": "code",
   "execution_count": 116,
   "metadata": {},
   "outputs": [],
   "source": [
    "# import Stemmer Factory class\n",
    "from Sastrawi.Stemmer.StemmerFactory import StemmerFactory\n",
    "from Sastrawi.StopWordRemover.StopWordRemoverFactory import StopWordRemoverFactory\n",
    "\n",
    "factory = StemmerFactory()\n",
    "stemmer = factory.create_stemmer()"
   ]
  },
  {
   "cell_type": "code",
   "execution_count": 136,
   "metadata": {},
   "outputs": [
    {
     "name": "stdout",
     "output_type": "stream",
     "text": [
      "stemming index : \n",
      "300, 301, 302, 303, 304, 305, 306, 307, 308, 309, "
     ]
    }
   ],
   "source": [
    "print('stemming index : ')\n",
    "for i in range(300,310):\n",
    "    print(i,end=', ')\n",
    "    df.loc[i,'text'] = stemmer.stem(df.loc[i,'text'])"
   ]
  },
  {
   "cell_type": "code",
   "execution_count": 138,
   "metadata": {},
   "outputs": [
    {
     "data": {
      "text/html": [
       "<div>\n",
       "<style scoped>\n",
       "    .dataframe tbody tr th:only-of-type {\n",
       "        vertical-align: middle;\n",
       "    }\n",
       "\n",
       "    .dataframe tbody tr th {\n",
       "        vertical-align: top;\n",
       "    }\n",
       "\n",
       "    .dataframe thead th {\n",
       "        text-align: right;\n",
       "    }\n",
       "</style>\n",
       "<table border=\"1\" class=\"dataframe\">\n",
       "  <thead>\n",
       "    <tr style=\"text-align: right;\">\n",
       "      <th></th>\n",
       "      <th>label</th>\n",
       "      <th>text</th>\n",
       "      <th>label_num</th>\n",
       "    </tr>\n",
       "  </thead>\n",
       "  <tbody>\n",
       "    <tr>\n",
       "      <th>305</th>\n",
       "      <td>berita</td>\n",
       "      <td>dongeng bisa rangsang anak untuk suka baca rep...</td>\n",
       "      <td>0</td>\n",
       "    </tr>\n",
       "    <tr>\n",
       "      <th>306</th>\n",
       "      <td>berita</td>\n",
       "      <td>darurat sehat rupa isu yang sangat strategis b...</td>\n",
       "      <td>0</td>\n",
       "    </tr>\n",
       "    <tr>\n",
       "      <th>307</th>\n",
       "      <td>berita</td>\n",
       "      <td>perlu ada baik sistem informasi bencana serta ...</td>\n",
       "      <td>0</td>\n",
       "    </tr>\n",
       "    <tr>\n",
       "      <th>308</th>\n",
       "      <td>berita</td>\n",
       "      <td>mereka tidak ingin tinggal rumah republika co ...</td>\n",
       "      <td>0</td>\n",
       "    </tr>\n",
       "    <tr>\n",
       "      <th>309</th>\n",
       "      <td>berita</td>\n",
       "      <td>korban tinggal belum 420 orang republika co id...</td>\n",
       "      <td>0</td>\n",
       "    </tr>\n",
       "  </tbody>\n",
       "</table>\n",
       "</div>"
      ],
      "text/plain": [
       "      label                                               text  label_num\n",
       "305  berita  dongeng bisa rangsang anak untuk suka baca rep...          0\n",
       "306  berita  darurat sehat rupa isu yang sangat strategis b...          0\n",
       "307  berita  perlu ada baik sistem informasi bencana serta ...          0\n",
       "308  berita  mereka tidak ingin tinggal rumah republika co ...          0\n",
       "309  berita  korban tinggal belum 420 orang republika co id...          0"
      ]
     },
     "execution_count": 138,
     "metadata": {},
     "output_type": "execute_result"
    }
   ],
   "source": [
    "df.loc[305:309]"
   ]
  },
  {
   "cell_type": "markdown",
   "metadata": {},
   "source": [
    "### split data"
   ]
  },
  {
   "cell_type": "code",
   "execution_count": 139,
   "metadata": {},
   "outputs": [
    {
     "name": "stdout",
     "output_type": "stream",
     "text": [
      "(2226,)\n",
      "(2226,)\n"
     ]
    }
   ],
   "source": [
    "# define X and y for use with COUNTVECTORIZER or TfidVectorizer\n",
    "X = df.text\n",
    "y = df.label_num\n",
    "print(X.shape)\n",
    "print(y.shape)"
   ]
  },
  {
   "cell_type": "code",
   "execution_count": 140,
   "metadata": {},
   "outputs": [
    {
     "name": "stdout",
     "output_type": "stream",
     "text": [
      "(1669,)\n",
      "(557,)\n",
      "(1669,)\n",
      "(557,)\n"
     ]
    }
   ],
   "source": [
    "# split X and y into training and testing sets\n",
    "from sklearn.model_selection import train_test_split\n",
    "X_train, X_test, y_train, y_test = train_test_split(X, y, random_state=1)\n",
    "print(X_train.shape)\n",
    "print(X_test.shape)\n",
    "print(y_train.shape)\n",
    "print(y_test.shape)"
   ]
  },
  {
   "cell_type": "markdown",
   "metadata": {},
   "source": [
    "# CountVectorizer\n",
    "\n",
    "Dengan menggunakan metode CountVectorizer, akurasi yang didapat masing-masing model sebesar = \n",
    "    Naive-Bayes         : 85 persen,\n",
    "    Logistic Regression : 84 persen,\n",
    "    SVM                 : 76 persen"
   ]
  },
  {
   "cell_type": "code",
   "execution_count": 164,
   "metadata": {},
   "outputs": [],
   "source": [
    "# import and instantiate CountVectorizer (with the default parameters)\n",
    "from sklearn.feature_extraction.text import CountVectorizer\n",
    "vect = CountVectorizer()"
   ]
  },
  {
   "cell_type": "code",
   "execution_count": 165,
   "metadata": {},
   "outputs": [],
   "source": [
    "# learn training data vocabulary, then use it to create a document-term matrix\n",
    "X_train_dtm = vect.fit_transform(X_train)"
   ]
  },
  {
   "cell_type": "code",
   "execution_count": 166,
   "metadata": {},
   "outputs": [
    {
     "data": {
      "text/plain": [
       "<1669x30041 sparse matrix of type '<class 'numpy.int64'>'\n",
       "\twith 275983 stored elements in Compressed Sparse Row format>"
      ]
     },
     "execution_count": 166,
     "metadata": {},
     "output_type": "execute_result"
    }
   ],
   "source": [
    "# examine the document-term matrix\n",
    "X_train_dtm"
   ]
  },
  {
   "cell_type": "code",
   "execution_count": 167,
   "metadata": {},
   "outputs": [
    {
     "data": {
      "text/plain": [
       "<557x30041 sparse matrix of type '<class 'numpy.int64'>'\n",
       "\twith 86570 stored elements in Compressed Sparse Row format>"
      ]
     },
     "execution_count": 167,
     "metadata": {},
     "output_type": "execute_result"
    }
   ],
   "source": [
    "# transform testing data (using fitted vocabulary) into a document-term matrix\n",
    "X_test_dtm = vect.transform(X_test)\n",
    "X_test_dtm"
   ]
  },
  {
   "cell_type": "markdown",
   "metadata": {},
   "source": [
    "## TfidVectorizer\n",
    "\n",
    "Dengan menggunakan metode TfidVectorizer, akurasi yang didapat masing-masing model sebesar = \n",
    "    Naive-Bayes         : 77 persen,\n",
    "    Logistic Regression : 83 persen,\n",
    "    SVM                 : 85 persen"
   ]
  },
  {
   "cell_type": "code",
   "execution_count": 141,
   "metadata": {},
   "outputs": [
    {
     "data": {
      "text/plain": [
       "['00',\n",
       " '000',\n",
       " '000015',\n",
       " '000dengan',\n",
       " '000mah',\n",
       " '001',\n",
       " '002',\n",
       " '005',\n",
       " '008',\n",
       " '009',\n",
       " '00m',\n",
       " '01',\n",
       " '010',\n",
       " '011',\n",
       " '012',\n",
       " '016',\n",
       " '017',\n",
       " '019',\n",
       " '01am',\n",
       " '02',\n",
       " '020',\n",
       " '021',\n",
       " '022',\n",
       " '025',\n",
       " '026',\n",
       " '027',\n",
       " '03',\n",
       " '032',\n",
       " '033',\n",
       " '034',\n",
       " '039',\n",
       " '04',\n",
       " '040',\n",
       " '041',\n",
       " '048',\n",
       " '05',\n",
       " '056',\n",
       " '06',\n",
       " '0601',\n",
       " '06172491',\n",
       " '062',\n",
       " '063',\n",
       " '064',\n",
       " '066',\n",
       " '068',\n",
       " '07',\n",
       " '072',\n",
       " '073',\n",
       " '079',\n",
       " '08',\n",
       " '080',\n",
       " '082',\n",
       " '083',\n",
       " '085372642544',\n",
       " '09',\n",
       " '091',\n",
       " '092',\n",
       " '093',\n",
       " '096',\n",
       " '099',\n",
       " '0jadwal',\n",
       " '0l',\n",
       " '0leicester',\n",
       " '0mm',\n",
       " '10',\n",
       " '100',\n",
       " '1000',\n",
       " '1000volt',\n",
       " '1002hpa',\n",
       " '1003',\n",
       " '1007',\n",
       " '100a',\n",
       " '100g',\n",
       " '101',\n",
       " '1011',\n",
       " '1012',\n",
       " '1013',\n",
       " '101jakarta',\n",
       " '102',\n",
       " '103',\n",
       " '1034',\n",
       " '104',\n",
       " '105',\n",
       " '106',\n",
       " '107',\n",
       " '10710',\n",
       " '108',\n",
       " '1080',\n",
       " '109',\n",
       " '10batang',\n",
       " '10mb',\n",
       " '10mbps',\n",
       " '10mp',\n",
       " '10ribu',\n",
       " '11',\n",
       " '110',\n",
       " '1106',\n",
       " '110cc',\n",
       " '110f',\n",
       " '110ribu',\n",
       " '111',\n",
       " '112',\n",
       " '113',\n",
       " '113peringkat',\n",
       " '114',\n",
       " '115',\n",
       " '116',\n",
       " '118',\n",
       " '118peringkat',\n",
       " '119',\n",
       " '11ac',\n",
       " '11th',\n",
       " '12',\n",
       " '120',\n",
       " '120g',\n",
       " '120ml',\n",
       " '121',\n",
       " '122',\n",
       " '123',\n",
       " '124',\n",
       " '125',\n",
       " '125cc',\n",
       " '125f',\n",
       " '126',\n",
       " '127',\n",
       " '1270',\n",
       " '12700',\n",
       " '128',\n",
       " '128gb',\n",
       " '129',\n",
       " '12940',\n",
       " '1295',\n",
       " '12mp',\n",
       " '13',\n",
       " '130',\n",
       " '132',\n",
       " '133',\n",
       " '134',\n",
       " '135',\n",
       " '1358',\n",
       " '136',\n",
       " '137',\n",
       " '138',\n",
       " '13mp',\n",
       " '14',\n",
       " '140',\n",
       " '14023',\n",
       " '142',\n",
       " '1438',\n",
       " '144',\n",
       " '1440x720',\n",
       " '1442',\n",
       " '145',\n",
       " '1450',\n",
       " '146',\n",
       " '1460',\n",
       " '1465',\n",
       " '147',\n",
       " '148',\n",
       " '149',\n",
       " '14bbangka',\n",
       " '15',\n",
       " '150',\n",
       " '1500',\n",
       " '1500023',\n",
       " '1500533',\n",
       " '1500910',\n",
       " '150cc',\n",
       " '150r',\n",
       " '151',\n",
       " '153',\n",
       " '154',\n",
       " '155',\n",
       " '156',\n",
       " '157',\n",
       " '158',\n",
       " '158a',\n",
       " '159',\n",
       " '15jumlah',\n",
       " '15ribu',\n",
       " '15w',\n",
       " '16',\n",
       " '160',\n",
       " '1600',\n",
       " '161',\n",
       " '16102',\n",
       " '162',\n",
       " '164',\n",
       " '165',\n",
       " '166',\n",
       " '167',\n",
       " '169',\n",
       " '1692',\n",
       " '1697',\n",
       " '16gb',\n",
       " '16km',\n",
       " '16mp',\n",
       " '17',\n",
       " '170',\n",
       " '171',\n",
       " '172',\n",
       " '1722',\n",
       " '173',\n",
       " '174',\n",
       " '175',\n",
       " '1755',\n",
       " '1757',\n",
       " '176',\n",
       " '177',\n",
       " '178',\n",
       " '179',\n",
       " '1791',\n",
       " '1795',\n",
       " '18',\n",
       " '180',\n",
       " '1800',\n",
       " '180ºc',\n",
       " '1816',\n",
       " '182',\n",
       " '1825',\n",
       " '183',\n",
       " '1837',\n",
       " '184',\n",
       " '1845',\n",
       " '185',\n",
       " '1850',\n",
       " '1851',\n",
       " '1852',\n",
       " '1854',\n",
       " '186',\n",
       " '1876',\n",
       " '1879',\n",
       " '188',\n",
       " '1883',\n",
       " '1884',\n",
       " '1889',\n",
       " '189',\n",
       " '19',\n",
       " '190',\n",
       " '1900',\n",
       " '1903',\n",
       " '1904',\n",
       " '1906',\n",
       " '1907',\n",
       " '191',\n",
       " '1910',\n",
       " '1920',\n",
       " '1921',\n",
       " '1922',\n",
       " '1926',\n",
       " '1927',\n",
       " '1928',\n",
       " '1929',\n",
       " '193',\n",
       " '1930',\n",
       " '1932',\n",
       " '1936',\n",
       " '1937',\n",
       " '194',\n",
       " '1941',\n",
       " '1942',\n",
       " '1944',\n",
       " '1945',\n",
       " '1946',\n",
       " '1947',\n",
       " '195',\n",
       " '1950',\n",
       " '1950an',\n",
       " '1955',\n",
       " '1957',\n",
       " '1958',\n",
       " '1959',\n",
       " '196',\n",
       " '1960',\n",
       " '1960an',\n",
       " '1961',\n",
       " '1964',\n",
       " '1965',\n",
       " '1966',\n",
       " '1967',\n",
       " '1968',\n",
       " '1969',\n",
       " '197',\n",
       " '1970',\n",
       " '1970an',\n",
       " '1971',\n",
       " '1972',\n",
       " '1973',\n",
       " '1974',\n",
       " '1975',\n",
       " '1976',\n",
       " '1977',\n",
       " '1979',\n",
       " '1980',\n",
       " '1981',\n",
       " '1982',\n",
       " '1983',\n",
       " '1984',\n",
       " '1986',\n",
       " '1987',\n",
       " '1988',\n",
       " '1989',\n",
       " '198cawang',\n",
       " '199',\n",
       " '1990',\n",
       " '1990an',\n",
       " '1991',\n",
       " '1992',\n",
       " '1994',\n",
       " '1995',\n",
       " '1996',\n",
       " '1997',\n",
       " '1998',\n",
       " '1999',\n",
       " '19pm',\n",
       " '1btg',\n",
       " '1gb',\n",
       " '1kg',\n",
       " '1persen',\n",
       " '1plus',\n",
       " '1sdt',\n",
       " '1triliun',\n",
       " '1w',\n",
       " '1x24',\n",
       " '1½',\n",
       " '20',\n",
       " '200',\n",
       " '2000',\n",
       " '2001',\n",
       " '2002',\n",
       " '2003',\n",
       " '2004',\n",
       " '2005',\n",
       " '2006',\n",
       " '2007',\n",
       " '2008',\n",
       " '2009',\n",
       " '200ceo',\n",
       " '201',\n",
       " '2010',\n",
       " '201028',\n",
       " '2011',\n",
       " '20111',\n",
       " '2012',\n",
       " '2013',\n",
       " '2014',\n",
       " '2015',\n",
       " '2016',\n",
       " '2017',\n",
       " '2018',\n",
       " '20180',\n",
       " '2018bestnine',\n",
       " '2018bestninte',\n",
       " '2019',\n",
       " '2019gantirambut',\n",
       " '2019grup',\n",
       " '2019jadiasn',\n",
       " '202',\n",
       " '2020',\n",
       " '2021',\n",
       " '2022',\n",
       " '2023',\n",
       " '2024',\n",
       " '2025',\n",
       " '203',\n",
       " '2030',\n",
       " '2032',\n",
       " '2040',\n",
       " '2041',\n",
       " '205',\n",
       " '2050',\n",
       " '206',\n",
       " '207',\n",
       " '207a',\n",
       " '208',\n",
       " '2080ti',\n",
       " '208b',\n",
       " '20detik',\n",
       " '20jumlah',\n",
       " '20kg',\n",
       " '20mp',\n",
       " '20x40',\n",
       " '21',\n",
       " '210',\n",
       " '2100',\n",
       " '21018',\n",
       " '2108',\n",
       " '211',\n",
       " '212',\n",
       " '213',\n",
       " '214',\n",
       " '215',\n",
       " '216',\n",
       " '2160',\n",
       " '217',\n",
       " '218',\n",
       " '219',\n",
       " '22',\n",
       " '220',\n",
       " '221',\n",
       " '222',\n",
       " '223',\n",
       " '224',\n",
       " '225',\n",
       " '2254',\n",
       " '226',\n",
       " '228',\n",
       " '2280',\n",
       " '229',\n",
       " '22jumlah',\n",
       " '22kw',\n",
       " '23',\n",
       " '230',\n",
       " '2300',\n",
       " '231',\n",
       " '233',\n",
       " '235',\n",
       " '23581165cawangjl',\n",
       " '236',\n",
       " '239',\n",
       " '239511085',\n",
       " '24',\n",
       " '240',\n",
       " '241',\n",
       " '242',\n",
       " '243',\n",
       " '246',\n",
       " '247',\n",
       " '248',\n",
       " '249',\n",
       " '24mp',\n",
       " '24x9',\n",
       " '25',\n",
       " '250',\n",
       " '2500',\n",
       " '250cc',\n",
       " '250gr',\n",
       " '250h',\n",
       " '250i',\n",
       " '250ml',\n",
       " '250r',\n",
       " '250sl',\n",
       " '251',\n",
       " '252',\n",
       " '253',\n",
       " '254',\n",
       " '255',\n",
       " '256',\n",
       " '256gb',\n",
       " '258',\n",
       " '259',\n",
       " '25m',\n",
       " '25mp',\n",
       " '26',\n",
       " '260',\n",
       " '262',\n",
       " '264',\n",
       " '2647',\n",
       " '265',\n",
       " '266',\n",
       " '267',\n",
       " '268',\n",
       " '2691',\n",
       " '27',\n",
       " '275',\n",
       " '276',\n",
       " '278',\n",
       " '28',\n",
       " '280',\n",
       " '281',\n",
       " '283',\n",
       " '284',\n",
       " '285',\n",
       " '286',\n",
       " '287',\n",
       " '288',\n",
       " '2883',\n",
       " '29',\n",
       " '290',\n",
       " '291',\n",
       " '293',\n",
       " '295',\n",
       " '296',\n",
       " '29791',\n",
       " '298',\n",
       " '299',\n",
       " '2bmrm4jxgq',\n",
       " '2d',\n",
       " '2fa',\n",
       " '2g',\n",
       " '2gb',\n",
       " '2jadwal',\n",
       " '2liter',\n",
       " '2mp',\n",
       " '2sdm',\n",
       " '2w',\n",
       " '2wd',\n",
       " '2x',\n",
       " '2x1',\n",
       " '2x2',\n",
       " '30',\n",
       " '300',\n",
       " '3000',\n",
       " '300cm3',\n",
       " '300e',\n",
       " '303',\n",
       " '304',\n",
       " '306',\n",
       " '307',\n",
       " '309',\n",
       " '30an',\n",
       " '30l',\n",
       " '30x30',\n",
       " '31',\n",
       " '310',\n",
       " '310gr',\n",
       " '311',\n",
       " '312',\n",
       " '313',\n",
       " '3142',\n",
       " '318',\n",
       " '32',\n",
       " '320',\n",
       " '3200',\n",
       " '324',\n",
       " '325',\n",
       " '326',\n",
       " '327',\n",
       " '328',\n",
       " '32gb',\n",
       " '33',\n",
       " '331',\n",
       " '3315',\n",
       " '3315mah',\n",
       " '332',\n",
       " '334',\n",
       " '335',\n",
       " '338',\n",
       " '34',\n",
       " '340',\n",
       " '341',\n",
       " '342',\n",
       " '343',\n",
       " '344',\n",
       " '3445520',\n",
       " '348',\n",
       " '35',\n",
       " '350',\n",
       " '3500mah',\n",
       " '350ºf',\n",
       " '351',\n",
       " '354',\n",
       " '355km',\n",
       " '356',\n",
       " '357',\n",
       " '36',\n",
       " '360',\n",
       " '361',\n",
       " '362',\n",
       " '363',\n",
       " '3638',\n",
       " '364',\n",
       " '3640',\n",
       " '365',\n",
       " '366',\n",
       " '367',\n",
       " '3676',\n",
       " '369',\n",
       " '36pm',\n",
       " '37',\n",
       " '370',\n",
       " '372',\n",
       " '3726',\n",
       " '373',\n",
       " '375',\n",
       " '37680',\n",
       " '376k',\n",
       " '378',\n",
       " '3798835',\n",
       " '37a',\n",
       " '38',\n",
       " '380',\n",
       " '3805',\n",
       " '382',\n",
       " '384',\n",
       " '385',\n",
       " '3858559',\n",
       " '386',\n",
       " '387',\n",
       " '388',\n",
       " '389',\n",
       " '38km',\n",
       " '39',\n",
       " '390',\n",
       " '3900',\n",
       " '391',\n",
       " '392',\n",
       " '393',\n",
       " '3965',\n",
       " '397',\n",
       " '399',\n",
       " '3a',\n",
       " '3c',\n",
       " '3cm',\n",
       " '3ct',\n",
       " '3d',\n",
       " '3g',\n",
       " '3gb',\n",
       " '3ghz',\n",
       " '3km',\n",
       " '3metode',\n",
       " '3prestasi',\n",
       " '3s',\n",
       " '3t',\n",
       " '3x4',\n",
       " '40',\n",
       " '400',\n",
       " '4000',\n",
       " '400mah',\n",
       " '400mm',\n",
       " '405',\n",
       " '406',\n",
       " '4070',\n",
       " '408',\n",
       " '40an',\n",
       " '40mp',\n",
       " '40ribu',\n",
       " '40w',\n",
       " '41',\n",
       " '410',\n",
       " '412',\n",
       " '416',\n",
       " '419',\n",
       " '42',\n",
       " '420',\n",
       " '422',\n",
       " '423',\n",
       " '425',\n",
       " '426',\n",
       " '428',\n",
       " '429',\n",
       " '43',\n",
       " '430',\n",
       " '431',\n",
       " '432',\n",
       " '434',\n",
       " '436',\n",
       " '44',\n",
       " '440',\n",
       " '442',\n",
       " '4444',\n",
       " '446',\n",
       " '447',\n",
       " '449',\n",
       " '45',\n",
       " '450',\n",
       " '454',\n",
       " '456',\n",
       " '458',\n",
       " '45setiabudi',\n",
       " '46',\n",
       " '4618',\n",
       " '463',\n",
       " '464',\n",
       " '465',\n",
       " '466',\n",
       " '467',\n",
       " '46p',\n",
       " '47',\n",
       " '470',\n",
       " '472',\n",
       " '473',\n",
       " '4731',\n",
       " '474',\n",
       " '475',\n",
       " '48',\n",
       " '480',\n",
       " '483',\n",
       " '485',\n",
       " '489',\n",
       " '48mp',\n",
       " '49',\n",
       " '493',\n",
       " '495',\n",
       " '498',\n",
       " '499',\n",
       " '4a',\n",
       " '4cm',\n",
       " '4g',\n",
       " '4gb',\n",
       " '4jl',\n",
       " '4k',\n",
       " '4s',\n",
       " '4w',\n",
       " '4wd',\n",
       " '4x',\n",
       " '4x1',\n",
       " '4x2',\n",
       " '4x4',\n",
       " '4x4x3cm',\n",
       " '50',\n",
       " '500',\n",
       " '5000',\n",
       " '500cc',\n",
       " '500kilometer',\n",
       " '500x60',\n",
       " '501',\n",
       " '502',\n",
       " '504',\n",
       " '505',\n",
       " '509',\n",
       " '50an',\n",
       " '50rb',\n",
       " '51',\n",
       " '510',\n",
       " '511',\n",
       " '512',\n",
       " '514',\n",
       " '515',\n",
       " '519',\n",
       " '52',\n",
       " '520',\n",
       " '520i',\n",
       " '528',\n",
       " '53',\n",
       " '530',\n",
       " '530i',\n",
       " '54',\n",
       " '542',\n",
       " '543',\n",
       " '55',\n",
       " '550',\n",
       " '551',\n",
       " '553',\n",
       " '554',\n",
       " '559',\n",
       " '56',\n",
       " '561',\n",
       " '563',\n",
       " '564',\n",
       " '565',\n",
       " '567',\n",
       " '568',\n",
       " '569',\n",
       " '57',\n",
       " '570',\n",
       " '572',\n",
       " '573',\n",
       " '575',\n",
       " '576',\n",
       " '57623662',\n",
       " '577',\n",
       " '579',\n",
       " '58',\n",
       " '582',\n",
       " '583',\n",
       " '584',\n",
       " '585',\n",
       " '586',\n",
       " '588',\n",
       " '59',\n",
       " '590',\n",
       " '591',\n",
       " '596',\n",
       " '597',\n",
       " '598',\n",
       " '599',\n",
       " '5c',\n",
       " '5d',\n",
       " '5g',\n",
       " '5gb',\n",
       " '5juta',\n",
       " '5l',\n",
       " '5mm',\n",
       " '5mp',\n",
       " '5prestasi',\n",
       " '5s',\n",
       " '5t',\n",
       " '5w',\n",
       " '5x',\n",
       " '5z',\n",
       " '60',\n",
       " '600',\n",
       " '6000',\n",
       " '600mah',\n",
       " '602',\n",
       " '604',\n",
       " '605',\n",
       " '60an',\n",
       " '60c',\n",
       " '60km',\n",
       " '61',\n",
       " '610',\n",
       " '612',\n",
       " '615',\n",
       " '616',\n",
       " '617',\n",
       " '618',\n",
       " '619',\n",
       " '6194',\n",
       " '62',\n",
       " '625',\n",
       " '6281803016426',\n",
       " '62910734',\n",
       " '63',\n",
       " '630',\n",
       " '630i',\n",
       " '631',\n",
       " '632',\n",
       " '633',\n",
       " '634',\n",
       " '635',\n",
       " '636',\n",
       " '64',\n",
       " '640',\n",
       " '642',\n",
       " '649',\n",
       " '64gb',\n",
       " '65',\n",
       " '650',\n",
       " '652',\n",
       " '654',\n",
       " '656',\n",
       " '659',\n",
       " '66',\n",
       " '662',\n",
       " '663',\n",
       " '667',\n",
       " '668',\n",
       " '669',\n",
       " '67',\n",
       " '670',\n",
       " '6737',\n",
       " '675',\n",
       " '676',\n",
       " '678',\n",
       " '68',\n",
       " '680',\n",
       " '681',\n",
       " '683',\n",
       " '687',\n",
       " '6875',\n",
       " '688',\n",
       " '689',\n",
       " '689cm3',\n",
       " '69',\n",
       " '690',\n",
       " '691',\n",
       " '693',\n",
       " '696',\n",
       " '698',\n",
       " '699',\n",
       " '6a',\n",
       " '6gb',\n",
       " '6ghz',\n",
       " '6kg',\n",
       " '6prestasi',\n",
       " '6r',\n",
       " '6s',\n",
       " '70',\n",
       " '700',\n",
       " '702',\n",
       " '7021',\n",
       " '7046',\n",
       " '705',\n",
       " '706',\n",
       " '708',\n",
       " '70g',\n",
       " '71',\n",
       " '710',\n",
       " '715',\n",
       " '717',\n",
       " '718',\n",
       " '71825733',\n",
       " '72',\n",
       " '722',\n",
       " '724',\n",
       " '72gb',\n",
       " '73',\n",
       " '730',\n",
       " '730mah',\n",
       " '731',\n",
       " '734',\n",
       " '737',\n",
       " '74',\n",
       " '743',\n",
       " '744',\n",
       " '747',\n",
       " '748',\n",
       " '75',\n",
       " '750',\n",
       " '7570',\n",
       " '75h2o',\n",
       " '75mm',\n",
       " '76',\n",
       " '760',\n",
       " '763',\n",
       " '765',\n",
       " '767',\n",
       " '768',\n",
       " '77',\n",
       " '773cc',\n",
       " '775',\n",
       " '78',\n",
       " '782',\n",
       " '785',\n",
       " '787',\n",
       " '79',\n",
       " '790',\n",
       " '7900x',\n",
       " '794',\n",
       " '796',\n",
       " '799',\n",
       " '79peringkat',\n",
       " '7nm',\n",
       " '7summits7flights',\n",
       " '80',\n",
       " '800',\n",
       " '8000',\n",
       " '800ng',\n",
       " '801',\n",
       " '802',\n",
       " '802rr',\n",
       " '804',\n",
       " '808',\n",
       " '80879740',\n",
       " '809',\n",
       " '80ribu',\n",
       " '81',\n",
       " '813',\n",
       " '82',\n",
       " '824',\n",
       " '827',\n",
       " '829',\n",
       " '83',\n",
       " '830',\n",
       " '832',\n",
       " '834',\n",
       " '835',\n",
       " '836',\n",
       " '839',\n",
       " '84',\n",
       " '840',\n",
       " '843',\n",
       " '845',\n",
       " '846',\n",
       " '849',\n",
       " '85',\n",
       " '850',\n",
       " '851',\n",
       " '853',\n",
       " '855',\n",
       " '856',\n",
       " '857',\n",
       " '859',\n",
       " '8592',\n",
       " '86',\n",
       " '860',\n",
       " '861',\n",
       " '862',\n",
       " '863',\n",
       " '864',\n",
       " '867',\n",
       " '87',\n",
       " '87272',\n",
       " '875',\n",
       " '876',\n",
       " '88',\n",
       " '880',\n",
       " '884',\n",
       " '885',\n",
       " '888',\n",
       " '89',\n",
       " '891',\n",
       " '893',\n",
       " '895',\n",
       " '899',\n",
       " '8gb',\n",
       " '8ghz',\n",
       " '8jumlah',\n",
       " '8mm',\n",
       " '8mp',\n",
       " '8x4',\n",
       " '90',\n",
       " '900',\n",
       " '9000',\n",
       " '9001',\n",
       " '900er',\n",
       " '902',\n",
       " '9024',\n",
       " '904',\n",
       " '906',\n",
       " '90min',\n",
       " '90oyv4afsu',\n",
       " '90ribu',\n",
       " '91',\n",
       " '913',\n",
       " '914',\n",
       " '916',\n",
       " '917',\n",
       " ...]"
      ]
     },
     "execution_count": 141,
     "metadata": {},
     "output_type": "execute_result"
    }
   ],
   "source": [
    "from sklearn.feature_extraction.text import TfidfVectorizer\n",
    "vect = TfidfVectorizer()\n",
    "X_train_dtm = vect.fit_transform(X_train)\n",
    "vect.get_feature_names()"
   ]
  },
  {
   "cell_type": "code",
   "execution_count": 143,
   "metadata": {},
   "outputs": [
    {
     "data": {
      "text/plain": [
       "<1669x30041 sparse matrix of type '<class 'numpy.float64'>'\n",
       "\twith 275983 stored elements in Compressed Sparse Row format>"
      ]
     },
     "execution_count": 143,
     "metadata": {},
     "output_type": "execute_result"
    }
   ],
   "source": [
    "X_train_dtm"
   ]
  },
  {
   "cell_type": "code",
   "execution_count": 144,
   "metadata": {},
   "outputs": [],
   "source": [
    "X_test_dtm = vect.transform(X_test)"
   ]
  },
  {
   "cell_type": "code",
   "execution_count": 145,
   "metadata": {},
   "outputs": [
    {
     "data": {
      "text/plain": [
       "<557x30041 sparse matrix of type '<class 'numpy.float64'>'\n",
       "\twith 86570 stored elements in Compressed Sparse Row format>"
      ]
     },
     "execution_count": 145,
     "metadata": {},
     "output_type": "execute_result"
    }
   ],
   "source": [
    "X_test_dtm"
   ]
  },
  {
   "cell_type": "markdown",
   "metadata": {},
   "source": [
    "# naive-bayes classification"
   ]
  },
  {
   "cell_type": "code",
   "execution_count": 168,
   "metadata": {},
   "outputs": [],
   "source": [
    "# import and instantiate a Multinomial Naive Bayes model\n",
    "from sklearn.naive_bayes import MultinomialNB\n",
    "nb = MultinomialNB()"
   ]
  },
  {
   "cell_type": "code",
   "execution_count": 169,
   "metadata": {},
   "outputs": [
    {
     "name": "stdout",
     "output_type": "stream",
     "text": [
      "CPU times: user 85 ms, sys: 21.6 ms, total: 107 ms\n",
      "Wall time: 136 ms\n"
     ]
    },
    {
     "data": {
      "text/plain": [
       "MultinomialNB(alpha=1.0, class_prior=None, fit_prior=True)"
      ]
     },
     "execution_count": 169,
     "metadata": {},
     "output_type": "execute_result"
    }
   ],
   "source": [
    "# train the model using X_train_dtm (timing it with an IPython \"magic command\")\n",
    "%time nb.fit(X_train_dtm, y_train)"
   ]
  },
  {
   "cell_type": "code",
   "execution_count": 170,
   "metadata": {},
   "outputs": [],
   "source": [
    "# make class predictions for X_test_dtm\n",
    "y_pred_class = nb.predict(X_test_dtm)"
   ]
  },
  {
   "cell_type": "code",
   "execution_count": 171,
   "metadata": {},
   "outputs": [
    {
     "data": {
      "text/plain": [
       "0.8473967684021544"
      ]
     },
     "execution_count": 171,
     "metadata": {},
     "output_type": "execute_result"
    }
   ],
   "source": [
    "# calculate accuracy of class predictions\n",
    "from sklearn import metrics\n",
    "metrics.accuracy_score(y_test, y_pred_class)"
   ]
  },
  {
   "cell_type": "code",
   "execution_count": 172,
   "metadata": {},
   "outputs": [
    {
     "data": {
      "text/plain": [
       "array([[36,  5,  0,  0,  2,  1,  5,  0,  7],\n",
       "       [ 1, 48,  0,  1,  0,  0,  4,  1,  2],\n",
       "       [ 1,  1, 46,  3,  0,  0,  3,  0,  0],\n",
       "       [ 0,  0,  1, 55,  0,  0,  1,  0,  4],\n",
       "       [ 0,  0,  0,  0, 51,  1,  1,  0,  0],\n",
       "       [ 0,  0,  0,  0,  1, 56,  1,  0,  1],\n",
       "       [ 0,  0,  3,  0,  0,  0, 58,  0,  4],\n",
       "       [ 1,  4,  0,  0,  0,  0,  9, 52,  2],\n",
       "       [ 1,  1,  4,  5,  0,  0,  1,  2, 70]])"
      ]
     },
     "execution_count": 172,
     "metadata": {},
     "output_type": "execute_result"
    }
   ],
   "source": [
    "# print the confusion matrix\n",
    "metrics.confusion_matrix(y_test, y_pred_class)"
   ]
  },
  {
   "cell_type": "code",
   "execution_count": 173,
   "metadata": {},
   "outputs": [
    {
     "data": {
      "text/plain": [
       "720     SEMARANG – Malam pergantian tahun 2018 ke 2019...\n",
       "1144    Gubernur NTB periode 2018-2023, Zulkieflimansy...\n",
       "398     Gambar viral di media sosial yang mencantumkan...\n",
       "305     dongeng bisa rangsang anak untuk suka baca rep...\n",
       "733     Cuaca buruk yang melanda sejumlah daerah di Ja...\n",
       "1007    Garut (ANTARA News) - Taman Wisata Alam Gunung...\n",
       "400     TRIBUNNEWS.COM - Pengacara Hotman Paris Hutape...\n",
       "Name: text, dtype: object"
      ]
     },
     "execution_count": 173,
     "metadata": {},
     "output_type": "execute_result"
    }
   ],
   "source": [
    "# print message text for the false \n",
    "X_test[(y_pred_class==8)&(y_test==0)]"
   ]
  },
  {
   "cell_type": "code",
   "execution_count": 135,
   "metadata": {},
   "outputs": [
    {
     "data": {
      "text/plain": [
       "label                                                   berita\n",
       "text         SEMARANG – Malam pergantian tahun 2018 ke 2019...\n",
       "label_num                                                    0\n",
       "Name: 720, dtype: object"
      ]
     },
     "execution_count": 135,
     "metadata": {},
     "output_type": "execute_result"
    }
   ],
   "source": [
    "df.loc[720]"
   ]
  },
  {
   "cell_type": "markdown",
   "metadata": {},
   "source": [
    "# Logistic Regression"
   ]
  },
  {
   "cell_type": "code",
   "execution_count": 174,
   "metadata": {},
   "outputs": [],
   "source": [
    "# import and instantiate a logistic regression model\n",
    "from sklearn.linear_model import LogisticRegression\n",
    "logreg = LogisticRegression(solver='liblinear')"
   ]
  },
  {
   "cell_type": "code",
   "execution_count": 175,
   "metadata": {},
   "outputs": [
    {
     "name": "stderr",
     "output_type": "stream",
     "text": [
      "/home/azkaf/newspaper3k_library/lib/python3.7/site-packages/sklearn/linear_model/logistic.py:460: FutureWarning: Default multi_class will be changed to 'auto' in 0.22. Specify the multi_class option to silence this warning.\n",
      "  \"this warning.\", FutureWarning)\n"
     ]
    },
    {
     "name": "stdout",
     "output_type": "stream",
     "text": [
      "CPU times: user 8.88 s, sys: 43.6 ms, total: 8.92 s\n",
      "Wall time: 9.59 s\n"
     ]
    },
    {
     "data": {
      "text/plain": [
       "LogisticRegression(C=1.0, class_weight=None, dual=False, fit_intercept=True,\n",
       "          intercept_scaling=1, max_iter=100, multi_class='warn',\n",
       "          n_jobs=None, penalty='l2', random_state=None, solver='liblinear',\n",
       "          tol=0.0001, verbose=0, warm_start=False)"
      ]
     },
     "execution_count": 175,
     "metadata": {},
     "output_type": "execute_result"
    }
   ],
   "source": [
    "# train the model using X_train_dtm\n",
    "%time logreg.fit(X_train_dtm, y_train)"
   ]
  },
  {
   "cell_type": "code",
   "execution_count": 176,
   "metadata": {},
   "outputs": [],
   "source": [
    "# make class predictions for X_test_dtm\n",
    "y_pred_class = logreg.predict(X_test_dtm)"
   ]
  },
  {
   "cell_type": "code",
   "execution_count": 177,
   "metadata": {},
   "outputs": [
    {
     "data": {
      "text/plain": [
       "0.8366247755834829"
      ]
     },
     "execution_count": 177,
     "metadata": {},
     "output_type": "execute_result"
    }
   ],
   "source": [
    "# calculate accuracy\n",
    "metrics.accuracy_score(y_test, y_pred_class)"
   ]
  },
  {
   "cell_type": "code",
   "execution_count": 178,
   "metadata": {},
   "outputs": [
    {
     "data": {
      "text/plain": [
       "array([[43,  5,  1,  1,  3,  1,  0,  1,  1],\n",
       "       [ 3, 48,  2,  0,  0,  0,  2,  1,  1],\n",
       "       [ 0,  0, 50,  1,  1,  0,  2,  0,  0],\n",
       "       [ 1,  0,  1, 58,  0,  0,  1,  0,  0],\n",
       "       [ 3,  0,  1,  0, 47,  2,  0,  0,  0],\n",
       "       [ 1,  0,  0,  0,  1, 57,  0,  0,  0],\n",
       "       [ 4,  0,  9,  0,  0,  0, 46,  5,  1],\n",
       "       [ 3,  3,  1,  0,  0,  1,  2, 55,  3],\n",
       "       [ 4,  1,  6,  4,  1,  2,  2,  2, 62]])"
      ]
     },
     "execution_count": 178,
     "metadata": {},
     "output_type": "execute_result"
    }
   ],
   "source": [
    "# print the confusion matrix\n",
    "metrics.confusion_matrix(y_test, y_pred_class)"
   ]
  },
  {
   "cell_type": "code",
   "execution_count": 179,
   "metadata": {},
   "outputs": [
    {
     "data": {
      "text/plain": [
       "1144    Gubernur NTB periode 2018-2023, Zulkieflimansy...\n",
       "305     dongeng bisa rangsang anak untuk suka baca rep...\n",
       "307     perlu ada baik sistem informasi bencana serta ...\n",
       "1143    Gubernur Bali, Wayan Koster menyerahkan langsu...\n",
       "712     JAKARTA – Polda Metro Jaya akan menambah jam o...\n",
       "Name: text, dtype: object"
      ]
     },
     "execution_count": 179,
     "metadata": {},
     "output_type": "execute_result"
    }
   ],
   "source": [
    "# print message text for the false \n",
    "X_test[(y_pred_class==1)&(y_test==0)]"
   ]
  },
  {
   "cell_type": "markdown",
   "metadata": {},
   "source": [
    "# SVM"
   ]
  },
  {
   "cell_type": "code",
   "execution_count": 180,
   "metadata": {},
   "outputs": [],
   "source": [
    "from sklearn import svm\n",
    "from sklearn.metrics import accuracy_score\n",
    "clf = svm.SVC(kernel='linear')"
   ]
  },
  {
   "cell_type": "code",
   "execution_count": 181,
   "metadata": {},
   "outputs": [
    {
     "name": "stdout",
     "output_type": "stream",
     "text": [
      "CPU times: user 9.29 s, sys: 111 ms, total: 9.4 s\n",
      "Wall time: 10.1 s\n"
     ]
    },
    {
     "data": {
      "text/plain": [
       "SVC(C=1.0, cache_size=200, class_weight=None, coef0=0.0,\n",
       "  decision_function_shape='ovr', degree=3, gamma='auto_deprecated',\n",
       "  kernel='linear', max_iter=-1, probability=False, random_state=None,\n",
       "  shrinking=True, tol=0.001, verbose=False)"
      ]
     },
     "execution_count": 181,
     "metadata": {},
     "output_type": "execute_result"
    }
   ],
   "source": [
    "%time clf.fit(X_train_dtm, y_train)"
   ]
  },
  {
   "cell_type": "code",
   "execution_count": 182,
   "metadata": {},
   "outputs": [
    {
     "name": "stdout",
     "output_type": "stream",
     "text": [
      "Predicting...\n"
     ]
    }
   ],
   "source": [
    "print(\"Predicting...\")\n",
    "prediction = clf.predict(X_test_dtm)"
   ]
  },
  {
   "cell_type": "code",
   "execution_count": 183,
   "metadata": {},
   "outputs": [
    {
     "name": "stdout",
     "output_type": "stream",
     "text": [
      "Prediction: [4 8 6 2 8 1 8 1 8 2 3 3 8 6 8 7 2 4 6 6 4 0 4 4 5 0 8 6 8 8 6 0 7 6 4 4 3\n",
      " 8 1 3 6 3 0 1 5 2 1 5 3 6 7 2 4 3 4 8 5 7 3 2 6 0 3 3 4 8 7 2 4 6 4 4 7 5\n",
      " 3 2 8 4 2 3 5 0 3 0 8 3 6 2 3 1 0 8 0 8 5 1 7 5 1 0 8 3 4 2 4 2 3 0 0 6 2\n",
      " 5 6 8 6 5 4 7 2 1 7 8 6 2 6 2 5 2 7 3 3 0 0 2 0 3 0 3 2 0 7 5 1 0 8 4 0 2\n",
      " 6 6 3 4 8 7 3 5 7 4 4 6 6 3 7 3 1 2 4 0 5 5 6 3 1 5 7 5 8 8 8 1 6 1 7 0 0\n",
      " 6 7 4 4 0 7 6 5 0 2 3 3 5 4 4 3 1 6 8 0 3 2 2 2 3 7 8 7 8 1 3 7 5 3 6 6 4\n",
      " 4 8 1 6 6 5 0 0 5 0 8 5 8 0 3 5 0 4 6 2 6 2 8 7 8 2 0 0 6 7 0 5 1 5 1 5 8\n",
      " 0 1 4 7 2 6 0 0 1 5 3 1 0 5 6 0 4 0 5 2 1 8 2 6 8 0 2 0 8 2 5 7 5 4 1 6 7\n",
      " 2 2 3 1 3 2 5 6 3 4 6 8 8 1 1 5 8 0 1 6 2 0 0 7 7 0 1 8 2 1 1 5 1 5 3 4 7\n",
      " 2 0 5 2 7 3 3 7 1 3 8 4 7 3 3 6 5 2 3 5 0 8 1 3 3 4 8 7 3 6 2 8 7 5 6 8 6\n",
      " 3 4 1 2 1 3 8 6 0 5 0 2 2 6 7 2 8 3 5 4 6 0 7 5 2 0 4 8 8 5 5 1 5 7 6 4 0\n",
      " 1 3 2 5 3 0 5 0 2 1 2 6 0 5 5 8 6 8 1 2 7 7 8 8 3 6 3 1 5 7 2 8 3 3 8 8 6\n",
      " 1 1 4 7 3 4 0 0 0 5 4 2 8 2 0 7 8 8 5 3 0 6 8 8 7 5 5 0 1 7 2 6 4 2 6 1 2\n",
      " 4 4 5 3 8 8 1 2 7 4 3 7 0 6 2 0 6 8 7 1 7 8 7 0 1 5 3 0 0 2 8 7 3 4 7 1 2\n",
      " 1 7 1 2 2 5 4 6 5 1 8 7 7 8 3 0 7 1 7 4 1 3 5 0 3 5 3 3 8 3 8 8 3 2 3 0 6\n",
      " 3 5]\n"
     ]
    }
   ],
   "source": [
    "print(\"Prediction:\",prediction)\n",
    "accuracy = accuracy_score(y_test, prediction)"
   ]
  },
  {
   "cell_type": "code",
   "execution_count": 184,
   "metadata": {},
   "outputs": [
    {
     "name": "stdout",
     "output_type": "stream",
     "text": [
      "Accuracy: 0.7612208258527827\n"
     ]
    }
   ],
   "source": [
    "metrics.accuracy_score(y_test, y_pred_class)\n",
    "print('Accuracy:', accuracy)"
   ]
  },
  {
   "cell_type": "markdown",
   "metadata": {},
   "source": [
    "## Testing the model"
   ]
  },
  {
   "cell_type": "code",
   "execution_count": 42,
   "metadata": {},
   "outputs": [
    {
     "data": {
      "text/plain": [
       "array(['berita', 'bisnis', 'kesehatan', 'kuliner', 'olahraga', 'otomotif',\n",
       "       'sains', 'teknologi', 'wisata'], dtype=object)"
      ]
     },
     "execution_count": 42,
     "metadata": {},
     "output_type": "execute_result"
    }
   ],
   "source": [
    "LE.classes_"
   ]
  },
  {
   "cell_type": "code",
   "execution_count": 29,
   "metadata": {},
   "outputs": [],
   "source": [
    "from requests_html import HTMLSession\n",
    "\n",
    "session = HTMLSession()"
   ]
  },
  {
   "cell_type": "code",
   "execution_count": 43,
   "metadata": {},
   "outputs": [],
   "source": [
    "url = 'https://sport.detik.com/sepakbola/liga-inggris/d-4365233/klopp-apa-bedanya-tandang-ke-city-musim-ini-dengan-musim-lalu'\n",
    "r = session.get(url)"
   ]
  },
  {
   "cell_type": "code",
   "execution_count": 44,
   "metadata": {},
   "outputs": [],
   "source": [
    "text = r.html.find('div#detikdetailtext',first=True).text"
   ]
  },
  {
   "cell_type": "code",
   "execution_count": 45,
   "metadata": {},
   "outputs": [
    {
     "data": {
      "text/plain": [
       "'Jakarta - Musim lalu Liverpool dihajar Manchester City di Etihad Stadium. Apakah kali ini situasinya berbeda dengan Liverpool kukuh di puncak klasemen dan belum kalah?\\n\\nLiverpool akan melawat ke Etihad, Jumat (4/1/2019) dinihari WIB. Laga ini jadi kesempatan besar \\'Si Merah\\' untuk membuka jarak lebih lebar dengan City di klasemen.\\n\\n\\n\\nBaca juga: Tak Ada Waktu untuk Liverpool Besar Kepala\\n\\n\\nAnak-anak Merseyside saat ini memuncaki Premier League dengan 54 poin dari 20 laga, tujuh poin dari City di posisi dua.\\n\\nPertemuan yang sama musim lalu menghasilkan kekalahan telak untuk Liverpool. Skuat besutan Juergen Klopp dihajar 0-5 oleh City, di mana kala itu Liverpool kehilangan Sadio Mane karena kartu merah di pertengahan babak kedua.\\n\\nJuergen Klopp pun ditanya apakah ada yang berbeda dengan pertandingan kali ini, mengingat timnya datang dengan catatan mengesankan. Liverpool seperti diketahui belum terkalahkan di 20 laga (17 menang, 3 imbang) dan bisa tampil lebih lepas karena unggul poin.\\n\\n\\n\\nBaca juga: Shaqiri: Tekanan? Begitulah Kalau Ada di Puncak Klasemen\\n\\n\\nSementara di musim lalu, Liverpool dalam posisi mengejar City dan lebih butuh kemenangan. Klopp langsung menepis mentah-mentah soal posisi dan itung-itungan klasemen.\\n\\nBaginya fokus Liverpool selalu berupaya menampilkan permainan terbaik dan mengejar kemenangan.\\n\\n\"Ketika kami melawat ke City tahun lalu, apa Anda pikir saya memegang klasemen di ruang ganti dan bilang \\'Kita di posisi empat, mereka pertama?\\' Itu tidak penting, kami saat itu ya mau memenangi pertandingan,\" ujar Klopp di situs resmi klub.\\n\\n\\n\\nBaca juga: Guardiola: Liverpool (Mungkin) yang Terbaik di Eropa Saat Ini\\n\\n\\n\"Kami mau memenangi laga, partai liga, yang tentu saja kami tidak wujudkan kala itu tapi kami berkeinginan menang hari itu dan saya rasa semua orang yang ingat laga itu melihatnya. Satu-satunya yang berubah adalah kalian semua menanyakan soal posisi ini, itu saja.\"\\n\\n\"Tidak masalah, kalian bisa tanya apa yang kalian mau. Kami menuju City bukan dengan jarak poin apapun,kami cuma ke sana untuk memainkan sepakbola terbaik yang bisa kami tunjukkan. 100 persen,\" tandasnya.\\n(raw/nds)\\nliverpool manchester city juergen klopp\\n\\n\\n<!--// <![CDATA[ OA_show(\\'newstag\\'); // ]]> -->\\n<!--// <![CDATA[ OA_show(\\'hiddenquiz\\'); // ]]> -->'"
      ]
     },
     "execution_count": 45,
     "metadata": {},
     "output_type": "execute_result"
    }
   ],
   "source": [
    "text"
   ]
  },
  {
   "cell_type": "code",
   "execution_count": 46,
   "metadata": {},
   "outputs": [
    {
     "data": {
      "text/plain": [
       "array([4])"
      ]
     },
     "execution_count": 46,
     "metadata": {},
     "output_type": "execute_result"
    }
   ],
   "source": [
    "test1 = [text]\n",
    "new_article_vect = vect.transform(test1)\n",
    "nb.predict(new_article_vect)"
   ]
  },
  {
   "cell_type": "markdown",
   "metadata": {},
   "source": [
    "# saving to csv file"
   ]
  },
  {
   "cell_type": "code",
   "execution_count": 185,
   "metadata": {},
   "outputs": [],
   "source": [
    "df.to_csv('stemmed_berita_text.csv')"
   ]
  },
  {
   "cell_type": "code",
   "execution_count": null,
   "metadata": {},
   "outputs": [],
   "source": []
  }
 ],
 "metadata": {
  "kernelspec": {
   "display_name": "news_scraper",
   "language": "python",
   "name": "news_scraper"
  },
  "language_info": {
   "codemirror_mode": {
    "name": "ipython",
    "version": 3
   },
   "file_extension": ".py",
   "mimetype": "text/x-python",
   "name": "python",
   "nbconvert_exporter": "python",
   "pygments_lexer": "ipython3",
   "version": "3.7.1"
  }
 },
 "nbformat": 4,
 "nbformat_minor": 2
}
